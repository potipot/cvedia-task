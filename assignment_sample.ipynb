{
  "nbformat": 4,
  "nbformat_minor": 0,
  "metadata": {
    "kernelspec": {
      "display_name": "Python 3",
      "language": "python",
      "name": "python3"
    },
    "language_info": {
      "codemirror_mode": {
        "name": "ipython",
        "version": 3
      },
      "file_extension": ".py",
      "mimetype": "text/x-python",
      "name": "python",
      "nbconvert_exporter": "python",
      "pygments_lexer": "ipython3",
      "version": "3.8.8"
    },
    "colab": {
      "name": "assignment-sample.ipynb",
      "provenance": [],
      "collapsed_sections": [],
      "toc_visible": true,
      "include_colab_link": true
    },
    "accelerator": "GPU"
  },
  "cells": [
    {
      "cell_type": "markdown",
      "metadata": {
        "id": "view-in-github",
        "colab_type": "text"
      },
      "source": [
        "<a href=\"https://colab.research.google.com/github/potipot/cvedia-task/blob/master/assignment_sample.ipynb\" target=\"_parent\"><img src=\"https://colab.research.google.com/assets/colab-badge.svg\" alt=\"Open In Colab\"/></a>"
      ]
    },
    {
      "cell_type": "markdown",
      "metadata": {
        "execution": {
          "iopub.execute_input": "2021-03-17T11:53:57.374636Z",
          "iopub.status.busy": "2021-03-17T11:53:57.374328Z",
          "iopub.status.idle": "2021-03-17T11:53:57.405797Z",
          "shell.execute_reply": "2021-03-17T11:53:57.398299Z",
          "shell.execute_reply.started": "2021-03-17T11:53:57.374608Z"
        },
        "id": "iiDaOSBK1vxA"
      },
      "source": [
        "# Assignment - Taxi Time Prediction\n",
        "\n",
        "## Intro\n",
        "\n",
        "> [Taxiing](https://en.wikipedia.org/wiki/Taxiing) (rarely spelled taxying) is the movement of an aircraft on the ground, under its own power, in contrast to towing or pushback where the aircraft is moved by a tug. The aircraft usually moves on wheels, but the term also includes aircraft with skis or floats (for water-based travel).\n",
        "\n",
        "Before take-off an airplane has to move from the gate (or parking stand) to the runway. The time elapsed between gate departure and take-off is called taxi-out. Similarly, the time elapsed between landing and gate arrival is called taxi-in. Notice that taxi-out takes place at origin airport and taxi-in takes place at destination airport.\n",
        "\n",
        "Generally, for a given flight, taxi-out takes more time than taxi-in.\n",
        "\n",
        "## Data\n",
        "### [taxi_data.csv.zip](https://drive.google.com/file/d/1wNsxf9X3v5nTupIKZPn67aVCOBoJqbbb/view?usp=sharing) (213MB)\n",
        "\n",
        "   Two years (2019 and 2020) of U.S. flight data reported to Department of Transportation. Columns description you can find [here](https://docs.google.com/document/d/1KmvWbMW-wFyNd6E_5MQ1ipkLpMZBmrMNl15jzgycZs0/edit?usp=sharing).\n",
        "    \n",
        "## Task\n",
        "Your task is to create model(s) to predict future taxi-out and taxi-in times. \n",
        "\n",
        "You are free to use any statistical/ML technique(s). Please update the `requirements.txt` with appropriate package and version whenever you decide to use new package.\n",
        "\n",
        "You don't have to process the data and train the model inside docker container. It will be probably better to do it outside of docker.\n",
        "\n",
        "During the review of your assignment we will assess your whole ML workflow.\n",
        "\n",
        "Below you can see the code to load the data into dataframe. Notice that you have to download the data first and put it in the same directory with notebook before executing the cells below."
      ]
    },
    {
      "cell_type": "code",
      "metadata": {
        "colab": {
          "base_uri": "https://localhost:8080/"
        },
        "id": "-uoxA0uT16QT",
        "outputId": "eaf9fa3c-0d2f-438e-e80b-cfe8aaf21945"
      },
      "source": [
        "!gdown --id 1wNsxf9X3v5nTupIKZPn67aVCOBoJqbbb\n"
      ],
      "execution_count": 1,
      "outputs": [
        {
          "output_type": "stream",
          "text": [
            "Downloading...\n",
            "From: https://drive.google.com/uc?id=1wNsxf9X3v5nTupIKZPn67aVCOBoJqbbb\n",
            "To: /content/taxi_data.csv.zip\n",
            "224MB [00:01, 147MB/s]\n"
          ],
          "name": "stdout"
        }
      ]
    },
    {
      "cell_type": "code",
      "metadata": {
        "colab": {
          "base_uri": "https://localhost:8080/"
        },
        "id": "XGNLihnY2QUh",
        "outputId": "43299a97-ab66-4aec-cae8-4244eb511249"
      },
      "source": [
        "!pip install fastai==2.3.0\n",
        "!pip install wandb\n",
        "!pip install fastparquet"
      ],
      "execution_count": 8,
      "outputs": [
        {
          "output_type": "stream",
          "text": [
            "Collecting fastai==2.3.0\n",
            "  Using cached https://files.pythonhosted.org/packages/5b/53/edf39e15b7ec5e805a0b6f72adbe48497ebcfa009a245eca7044ae9ee1c6/fastai-2.3.0-py3-none-any.whl\n",
            "Requirement already satisfied: requests in /usr/local/lib/python3.7/dist-packages (from fastai==2.3.0) (2.23.0)\n",
            "Requirement already satisfied: pip in /usr/local/lib/python3.7/dist-packages (from fastai==2.3.0) (19.3.1)\n",
            "Collecting torchvision<0.9,>=0.8\n",
            "  Using cached https://files.pythonhosted.org/packages/94/df/969e69a94cff1c8911acb0688117f95e1915becc1e01c73e7960a2c76ec8/torchvision-0.8.2-cp37-cp37m-manylinux1_x86_64.whl\n",
            "Requirement already satisfied: scipy in /usr/local/lib/python3.7/dist-packages (from fastai==2.3.0) (1.4.1)\n",
            "Requirement already satisfied: pandas in /usr/local/lib/python3.7/dist-packages (from fastai==2.3.0) (1.1.5)\n",
            "Requirement already satisfied: pyyaml in /usr/local/lib/python3.7/dist-packages (from fastai==2.3.0) (3.13)\n",
            "Collecting torch<1.8,>=1.7.0\n",
            "\u001b[?25l  Downloading https://files.pythonhosted.org/packages/90/5d/095ddddc91c8a769a68c791c019c5793f9c4456a688ddd235d6670924ecb/torch-1.7.1-cp37-cp37m-manylinux1_x86_64.whl (776.8MB)\n",
            "\u001b[K     |████████████████████████████████| 776.8MB 23kB/s \n",
            "\u001b[?25hRequirement already satisfied: pillow>6.0.0 in /usr/local/lib/python3.7/dist-packages (from fastai==2.3.0) (7.1.2)\n",
            "Requirement already satisfied: scikit-learn in /usr/local/lib/python3.7/dist-packages (from fastai==2.3.0) (0.22.2.post1)\n",
            "Collecting fastcore<1.4,>=1.3.8\n",
            "  Using cached https://files.pythonhosted.org/packages/0c/98/60404e2817cff113a6ae4023bc1772e23179408fdf7857fa410551758dfe/fastcore-1.3.19-py3-none-any.whl\n",
            "Requirement already satisfied: matplotlib in /usr/local/lib/python3.7/dist-packages (from fastai==2.3.0) (3.2.2)\n",
            "Requirement already satisfied: packaging in /usr/local/lib/python3.7/dist-packages (from fastai==2.3.0) (20.9)\n",
            "Requirement already satisfied: fastprogress>=0.2.4 in /usr/local/lib/python3.7/dist-packages (from fastai==2.3.0) (1.0.0)\n",
            "Requirement already satisfied: spacy<3 in /usr/local/lib/python3.7/dist-packages (from fastai==2.3.0) (2.2.4)\n",
            "Requirement already satisfied: idna<3,>=2.5 in /usr/local/lib/python3.7/dist-packages (from requests->fastai==2.3.0) (2.10)\n",
            "Requirement already satisfied: chardet<4,>=3.0.2 in /usr/local/lib/python3.7/dist-packages (from requests->fastai==2.3.0) (3.0.4)\n",
            "Requirement already satisfied: urllib3!=1.25.0,!=1.25.1,<1.26,>=1.21.1 in /usr/local/lib/python3.7/dist-packages (from requests->fastai==2.3.0) (1.24.3)\n",
            "Requirement already satisfied: certifi>=2017.4.17 in /usr/local/lib/python3.7/dist-packages (from requests->fastai==2.3.0) (2020.12.5)\n",
            "Requirement already satisfied: numpy in /usr/local/lib/python3.7/dist-packages (from torchvision<0.9,>=0.8->fastai==2.3.0) (1.19.5)\n",
            "Requirement already satisfied: pytz>=2017.2 in /usr/local/lib/python3.7/dist-packages (from pandas->fastai==2.3.0) (2018.9)\n",
            "Requirement already satisfied: python-dateutil>=2.7.3 in /usr/local/lib/python3.7/dist-packages (from pandas->fastai==2.3.0) (2.8.1)\n",
            "Requirement already satisfied: typing-extensions in /usr/local/lib/python3.7/dist-packages (from torch<1.8,>=1.7.0->fastai==2.3.0) (3.7.4.3)\n",
            "Requirement already satisfied: joblib>=0.11 in /usr/local/lib/python3.7/dist-packages (from scikit-learn->fastai==2.3.0) (1.0.1)\n",
            "Requirement already satisfied: kiwisolver>=1.0.1 in /usr/local/lib/python3.7/dist-packages (from matplotlib->fastai==2.3.0) (1.3.1)\n",
            "Requirement already satisfied: pyparsing!=2.0.4,!=2.1.2,!=2.1.6,>=2.0.1 in /usr/local/lib/python3.7/dist-packages (from matplotlib->fastai==2.3.0) (2.4.7)\n",
            "Requirement already satisfied: cycler>=0.10 in /usr/local/lib/python3.7/dist-packages (from matplotlib->fastai==2.3.0) (0.10.0)\n",
            "Requirement already satisfied: wasabi<1.1.0,>=0.4.0 in /usr/local/lib/python3.7/dist-packages (from spacy<3->fastai==2.3.0) (0.8.2)\n",
            "Requirement already satisfied: preshed<3.1.0,>=3.0.2 in /usr/local/lib/python3.7/dist-packages (from spacy<3->fastai==2.3.0) (3.0.5)\n",
            "Requirement already satisfied: srsly<1.1.0,>=1.0.2 in /usr/local/lib/python3.7/dist-packages (from spacy<3->fastai==2.3.0) (1.0.5)\n",
            "Requirement already satisfied: tqdm<5.0.0,>=4.38.0 in /usr/local/lib/python3.7/dist-packages (from spacy<3->fastai==2.3.0) (4.41.1)\n",
            "Requirement already satisfied: blis<0.5.0,>=0.4.0 in /usr/local/lib/python3.7/dist-packages (from spacy<3->fastai==2.3.0) (0.4.1)\n",
            "Requirement already satisfied: cymem<2.1.0,>=2.0.2 in /usr/local/lib/python3.7/dist-packages (from spacy<3->fastai==2.3.0) (2.0.5)\n",
            "Requirement already satisfied: setuptools in /usr/local/lib/python3.7/dist-packages (from spacy<3->fastai==2.3.0) (54.2.0)\n",
            "Requirement already satisfied: thinc==7.4.0 in /usr/local/lib/python3.7/dist-packages (from spacy<3->fastai==2.3.0) (7.4.0)\n",
            "Requirement already satisfied: plac<1.2.0,>=0.9.6 in /usr/local/lib/python3.7/dist-packages (from spacy<3->fastai==2.3.0) (1.1.3)\n",
            "Requirement already satisfied: murmurhash<1.1.0,>=0.28.0 in /usr/local/lib/python3.7/dist-packages (from spacy<3->fastai==2.3.0) (1.0.5)\n",
            "Requirement already satisfied: catalogue<1.1.0,>=0.0.7 in /usr/local/lib/python3.7/dist-packages (from spacy<3->fastai==2.3.0) (1.0.0)\n",
            "Requirement already satisfied: six>=1.5 in /usr/local/lib/python3.7/dist-packages (from python-dateutil>=2.7.3->pandas->fastai==2.3.0) (1.15.0)\n",
            "Requirement already satisfied: importlib-metadata>=0.20; python_version < \"3.8\" in /usr/local/lib/python3.7/dist-packages (from catalogue<1.1.0,>=0.0.7->spacy<3->fastai==2.3.0) (3.8.1)\n",
            "Requirement already satisfied: zipp>=0.5 in /usr/local/lib/python3.7/dist-packages (from importlib-metadata>=0.20; python_version < \"3.8\"->catalogue<1.1.0,>=0.0.7->spacy<3->fastai==2.3.0) (3.4.1)\n",
            "\u001b[31mERROR: torchtext 0.9.1 has requirement torch==1.8.1, but you'll have torch 1.7.1 which is incompatible.\u001b[0m\n",
            "Installing collected packages: torch, torchvision, fastcore, fastai\n",
            "  Found existing installation: torch 1.8.1+cu101\n",
            "    Uninstalling torch-1.8.1+cu101:\n",
            "      Successfully uninstalled torch-1.8.1+cu101\n",
            "  Found existing installation: torchvision 0.9.1+cu101\n",
            "    Uninstalling torchvision-0.9.1+cu101:\n",
            "      Successfully uninstalled torchvision-0.9.1+cu101\n",
            "  Found existing installation: fastai 1.0.61\n",
            "    Uninstalling fastai-1.0.61:\n",
            "      Successfully uninstalled fastai-1.0.61\n",
            "Successfully installed fastai-2.3.0 fastcore-1.3.19 torch-1.7.1 torchvision-0.8.2\n",
            "Requirement already satisfied: wandb in /usr/local/lib/python3.7/dist-packages (0.10.24)\n",
            "Requirement already satisfied: docker-pycreds>=0.4.0 in /usr/local/lib/python3.7/dist-packages (from wandb) (0.4.0)\n",
            "Requirement already satisfied: shortuuid>=0.5.0 in /usr/local/lib/python3.7/dist-packages (from wandb) (1.0.1)\n",
            "Requirement already satisfied: protobuf>=3.12.0 in /usr/local/lib/python3.7/dist-packages (from wandb) (3.12.4)\n",
            "Requirement already satisfied: PyYAML in /usr/local/lib/python3.7/dist-packages (from wandb) (3.13)\n",
            "Requirement already satisfied: GitPython>=1.0.0 in /usr/local/lib/python3.7/dist-packages (from wandb) (3.1.14)\n",
            "Requirement already satisfied: configparser>=3.8.1 in /usr/local/lib/python3.7/dist-packages (from wandb) (5.0.2)\n",
            "Requirement already satisfied: subprocess32>=3.5.3 in /usr/local/lib/python3.7/dist-packages (from wandb) (3.5.4)\n",
            "Requirement already satisfied: requests<3,>=2.0.0 in /usr/local/lib/python3.7/dist-packages (from wandb) (2.23.0)\n",
            "Requirement already satisfied: python-dateutil>=2.6.1 in /usr/local/lib/python3.7/dist-packages (from wandb) (2.8.1)\n",
            "Requirement already satisfied: Click>=7.0 in /usr/local/lib/python3.7/dist-packages (from wandb) (7.1.2)\n",
            "Requirement already satisfied: psutil>=5.0.0 in /usr/local/lib/python3.7/dist-packages (from wandb) (5.4.8)\n",
            "Requirement already satisfied: promise<3,>=2.0 in /usr/local/lib/python3.7/dist-packages (from wandb) (2.3)\n",
            "Requirement already satisfied: pathtools in /usr/local/lib/python3.7/dist-packages (from wandb) (0.1.2)\n",
            "Requirement already satisfied: sentry-sdk>=0.4.0 in /usr/local/lib/python3.7/dist-packages (from wandb) (1.0.0)\n",
            "Requirement already satisfied: six>=1.13.0 in /usr/local/lib/python3.7/dist-packages (from wandb) (1.15.0)\n",
            "Requirement already satisfied: setuptools in /usr/local/lib/python3.7/dist-packages (from protobuf>=3.12.0->wandb) (54.2.0)\n",
            "Requirement already satisfied: gitdb<5,>=4.0.1 in /usr/local/lib/python3.7/dist-packages (from GitPython>=1.0.0->wandb) (4.0.7)\n",
            "Requirement already satisfied: urllib3!=1.25.0,!=1.25.1,<1.26,>=1.21.1 in /usr/local/lib/python3.7/dist-packages (from requests<3,>=2.0.0->wandb) (1.24.3)\n",
            "Requirement already satisfied: chardet<4,>=3.0.2 in /usr/local/lib/python3.7/dist-packages (from requests<3,>=2.0.0->wandb) (3.0.4)\n",
            "Requirement already satisfied: idna<3,>=2.5 in /usr/local/lib/python3.7/dist-packages (from requests<3,>=2.0.0->wandb) (2.10)\n",
            "Requirement already satisfied: certifi>=2017.4.17 in /usr/local/lib/python3.7/dist-packages (from requests<3,>=2.0.0->wandb) (2020.12.5)\n",
            "Requirement already satisfied: smmap<5,>=3.0.1 in /usr/local/lib/python3.7/dist-packages (from gitdb<5,>=4.0.1->GitPython>=1.0.0->wandb) (4.0.0)\n",
            "Requirement already satisfied: fastparquet in /usr/local/lib/python3.7/dist-packages (0.5.0)\n",
            "Requirement already satisfied: pandas>=1.1.0 in /usr/local/lib/python3.7/dist-packages (from fastparquet) (1.1.5)\n",
            "Requirement already satisfied: numpy>=1.11 in /usr/local/lib/python3.7/dist-packages (from fastparquet) (1.19.5)\n",
            "Requirement already satisfied: thrift>=0.11.0 in /usr/local/lib/python3.7/dist-packages (from fastparquet) (0.13.0)\n",
            "Requirement already satisfied: numba>=0.49 in /usr/local/lib/python3.7/dist-packages (from fastparquet) (0.51.2)\n",
            "Requirement already satisfied: python-dateutil>=2.7.3 in /usr/local/lib/python3.7/dist-packages (from pandas>=1.1.0->fastparquet) (2.8.1)\n",
            "Requirement already satisfied: pytz>=2017.2 in /usr/local/lib/python3.7/dist-packages (from pandas>=1.1.0->fastparquet) (2018.9)\n",
            "Requirement already satisfied: six>=1.7.2 in /usr/local/lib/python3.7/dist-packages (from thrift>=0.11.0->fastparquet) (1.15.0)\n",
            "Requirement already satisfied: llvmlite<0.35,>=0.34.0.dev0 in /usr/local/lib/python3.7/dist-packages (from numba>=0.49->fastparquet) (0.34.0)\n",
            "Requirement already satisfied: setuptools in /usr/local/lib/python3.7/dist-packages (from numba>=0.49->fastparquet) (54.2.0)\n"
          ],
          "name": "stdout"
        }
      ]
    },
    {
      "cell_type": "markdown",
      "metadata": {
        "execution": {
          "iopub.execute_input": "2021-03-17T13:48:38.156870Z",
          "iopub.status.busy": "2021-03-17T13:48:38.156340Z",
          "iopub.status.idle": "2021-03-17T13:48:38.164183Z",
          "shell.execute_reply": "2021-03-17T13:48:38.162716Z",
          "shell.execute_reply.started": "2021-03-17T13:48:38.156813Z"
        },
        "id": "XLeSKBHK1vxH"
      },
      "source": [
        "# Load data into dataframe"
      ]
    },
    {
      "cell_type": "code",
      "metadata": {
        "execution": {
          "iopub.execute_input": "2021-03-18T08:27:15.842428Z",
          "iopub.status.busy": "2021-03-18T08:27:15.842243Z",
          "iopub.status.idle": "2021-03-18T08:27:16.177093Z",
          "shell.execute_reply": "2021-03-18T08:27:16.175988Z",
          "shell.execute_reply.started": "2021-03-18T08:27:15.842398Z"
        },
        "id": "aBlxSdOP1vxI"
      },
      "source": [
        "import numpy as np\n",
        "import pandas as pd"
      ],
      "execution_count": 9,
      "outputs": []
    },
    {
      "cell_type": "code",
      "metadata": {
        "id": "y1DOnJd81vxJ"
      },
      "source": [
        "from fastai.tabular.all import *\n",
        "from fastai.callback.wandb import *\n",
        "import wandb"
      ],
      "execution_count": 10,
      "outputs": []
    },
    {
      "cell_type": "markdown",
      "metadata": {
        "execution": {
          "iopub.execute_input": "2021-03-18T08:27:16.178475Z",
          "iopub.status.busy": "2021-03-18T08:27:16.178238Z",
          "iopub.status.idle": "2021-03-18T08:27:55.809669Z",
          "shell.execute_reply": "2021-03-18T08:27:55.808522Z",
          "shell.execute_reply.started": "2021-03-18T08:27:16.178439Z"
        },
        "id": "o3qp2FYV1vxK"
      },
      "source": [
        "taxi_df = pd.read_csv(\"taxi_data.csv.zip\", compression=\"zip\")"
      ]
    },
    {
      "cell_type": "code",
      "metadata": {
        "id": "P2Zy6wrX1vxK"
      },
      "source": [
        "taxi_df = pd.read_csv(\"taxi_data.csv.zip\", compression=\"zip\")"
      ],
      "execution_count": 20,
      "outputs": []
    },
    {
      "cell_type": "markdown",
      "metadata": {
        "id": "Cr2pJuV_5Bry"
      },
      "source": [
        "# Clean up date"
      ]
    },
    {
      "cell_type": "code",
      "metadata": {
        "id": "P2UQUxrt47GZ"
      },
      "source": [
        "make_date(taxi_df, 'FlightDate')"
      ],
      "execution_count": 21,
      "outputs": []
    },
    {
      "cell_type": "markdown",
      "metadata": {
        "id": "ooPgXzVi1vxK"
      },
      "source": [
        "## convert datatypes to consume less memory"
      ]
    },
    {
      "cell_type": "code",
      "metadata": {
        "id": "PFc7Uysd1vxK"
      },
      "source": [
        "taxi_df = df_shrink(taxi_df)"
      ],
      "execution_count": 22,
      "outputs": []
    },
    {
      "cell_type": "code",
      "metadata": {
        "colab": {
          "base_uri": "https://localhost:8080/",
          "height": 226
        },
        "id": "-ZjFTRGC1vxL",
        "outputId": "af5e0f06-9699-4d49-b20b-20b5742e781e"
      },
      "source": [
        "taxi_df.head()"
      ],
      "execution_count": 23,
      "outputs": [
        {
          "output_type": "execute_result",
          "data": {
            "text/html": [
              "<div>\n",
              "<style scoped>\n",
              "    .dataframe tbody tr th:only-of-type {\n",
              "        vertical-align: middle;\n",
              "    }\n",
              "\n",
              "    .dataframe tbody tr th {\n",
              "        vertical-align: top;\n",
              "    }\n",
              "\n",
              "    .dataframe thead th {\n",
              "        text-align: right;\n",
              "    }\n",
              "</style>\n",
              "<table border=\"1\" class=\"dataframe\">\n",
              "  <thead>\n",
              "    <tr style=\"text-align: right;\">\n",
              "      <th></th>\n",
              "      <th>Year</th>\n",
              "      <th>FlightDate</th>\n",
              "      <th>Reporting_Airline</th>\n",
              "      <th>Origin</th>\n",
              "      <th>OriginCityName</th>\n",
              "      <th>OriginState</th>\n",
              "      <th>Dest</th>\n",
              "      <th>DestCityName</th>\n",
              "      <th>DestState</th>\n",
              "      <th>DepTime</th>\n",
              "      <th>TaxiOut</th>\n",
              "      <th>WheelsOff</th>\n",
              "      <th>WheelsOn</th>\n",
              "      <th>TaxiIn</th>\n",
              "      <th>ArrTime</th>\n",
              "      <th>Cancelled</th>\n",
              "      <th>Diverted</th>\n",
              "      <th>AirTime</th>\n",
              "      <th>DivReachedDest</th>\n",
              "    </tr>\n",
              "  </thead>\n",
              "  <tbody>\n",
              "    <tr>\n",
              "      <th>0</th>\n",
              "      <td>2020</td>\n",
              "      <td>2020-12-01</td>\n",
              "      <td>9E</td>\n",
              "      <td>CVG</td>\n",
              "      <td>Cincinnati, OH</td>\n",
              "      <td>KY</td>\n",
              "      <td>BOS</td>\n",
              "      <td>Boston, MA</td>\n",
              "      <td>MA</td>\n",
              "      <td>851.0</td>\n",
              "      <td>60.0</td>\n",
              "      <td>951.0</td>\n",
              "      <td>1127.0</td>\n",
              "      <td>6.0</td>\n",
              "      <td>1133.0</td>\n",
              "      <td>0.0</td>\n",
              "      <td>0.0</td>\n",
              "      <td>96.0</td>\n",
              "      <td>NaN</td>\n",
              "    </tr>\n",
              "    <tr>\n",
              "      <th>1</th>\n",
              "      <td>2020</td>\n",
              "      <td>2020-12-03</td>\n",
              "      <td>9E</td>\n",
              "      <td>CVG</td>\n",
              "      <td>Cincinnati, OH</td>\n",
              "      <td>KY</td>\n",
              "      <td>BOS</td>\n",
              "      <td>Boston, MA</td>\n",
              "      <td>MA</td>\n",
              "      <td>729.0</td>\n",
              "      <td>44.0</td>\n",
              "      <td>813.0</td>\n",
              "      <td>948.0</td>\n",
              "      <td>5.0</td>\n",
              "      <td>953.0</td>\n",
              "      <td>0.0</td>\n",
              "      <td>0.0</td>\n",
              "      <td>95.0</td>\n",
              "      <td>NaN</td>\n",
              "    </tr>\n",
              "    <tr>\n",
              "      <th>2</th>\n",
              "      <td>2020</td>\n",
              "      <td>2020-12-04</td>\n",
              "      <td>9E</td>\n",
              "      <td>CVG</td>\n",
              "      <td>Cincinnati, OH</td>\n",
              "      <td>KY</td>\n",
              "      <td>BOS</td>\n",
              "      <td>Boston, MA</td>\n",
              "      <td>MA</td>\n",
              "      <td>726.0</td>\n",
              "      <td>10.0</td>\n",
              "      <td>736.0</td>\n",
              "      <td>907.0</td>\n",
              "      <td>7.0</td>\n",
              "      <td>914.0</td>\n",
              "      <td>0.0</td>\n",
              "      <td>0.0</td>\n",
              "      <td>91.0</td>\n",
              "      <td>NaN</td>\n",
              "    </tr>\n",
              "    <tr>\n",
              "      <th>3</th>\n",
              "      <td>2020</td>\n",
              "      <td>2020-12-06</td>\n",
              "      <td>9E</td>\n",
              "      <td>CVG</td>\n",
              "      <td>Cincinnati, OH</td>\n",
              "      <td>KY</td>\n",
              "      <td>BOS</td>\n",
              "      <td>Boston, MA</td>\n",
              "      <td>MA</td>\n",
              "      <td>723.0</td>\n",
              "      <td>22.0</td>\n",
              "      <td>745.0</td>\n",
              "      <td>926.0</td>\n",
              "      <td>6.0</td>\n",
              "      <td>932.0</td>\n",
              "      <td>0.0</td>\n",
              "      <td>0.0</td>\n",
              "      <td>101.0</td>\n",
              "      <td>NaN</td>\n",
              "    </tr>\n",
              "    <tr>\n",
              "      <th>4</th>\n",
              "      <td>2020</td>\n",
              "      <td>2020-12-07</td>\n",
              "      <td>9E</td>\n",
              "      <td>CVG</td>\n",
              "      <td>Cincinnati, OH</td>\n",
              "      <td>KY</td>\n",
              "      <td>BOS</td>\n",
              "      <td>Boston, MA</td>\n",
              "      <td>MA</td>\n",
              "      <td>720.0</td>\n",
              "      <td>12.0</td>\n",
              "      <td>732.0</td>\n",
              "      <td>912.0</td>\n",
              "      <td>7.0</td>\n",
              "      <td>919.0</td>\n",
              "      <td>0.0</td>\n",
              "      <td>0.0</td>\n",
              "      <td>100.0</td>\n",
              "      <td>NaN</td>\n",
              "    </tr>\n",
              "  </tbody>\n",
              "</table>\n",
              "</div>"
            ],
            "text/plain": [
              "   Year FlightDate Reporting_Airline  ... Diverted AirTime DivReachedDest\n",
              "0  2020 2020-12-01                9E  ...      0.0    96.0            NaN\n",
              "1  2020 2020-12-03                9E  ...      0.0    95.0            NaN\n",
              "2  2020 2020-12-04                9E  ...      0.0    91.0            NaN\n",
              "3  2020 2020-12-06                9E  ...      0.0   101.0            NaN\n",
              "4  2020 2020-12-07                9E  ...      0.0   100.0            NaN\n",
              "\n",
              "[5 rows x 19 columns]"
            ]
          },
          "metadata": {
            "tags": []
          },
          "execution_count": 23
        }
      ]
    },
    {
      "cell_type": "markdown",
      "metadata": {
        "id": "g5h0hvbI1vxN"
      },
      "source": [
        "## filter out indexes and drop some columns"
      ]
    },
    {
      "cell_type": "code",
      "metadata": {
        "id": "1sdIEWT31vxO"
      },
      "source": [
        "is_cancelled = taxi_df.Cancelled == 1.0\n",
        "taxi_df = taxi_df[~is_cancelled]\n",
        "\n",
        "# dropping diverted for now\n",
        "is_diverted = (taxi_df.Diverted == 1.0)\n",
        "taxi_df = taxi_df[~is_diverted]"
      ],
      "execution_count": 24,
      "outputs": []
    },
    {
      "cell_type": "code",
      "metadata": {
        "id": "n3YgXhZI1vxO"
      },
      "source": [
        "taxi_df.drop(columns=['Year', 'Cancelled', \"DivReachedDest\", \"Diverted\"], inplace=True)"
      ],
      "execution_count": 25,
      "outputs": []
    },
    {
      "cell_type": "markdown",
      "metadata": {
        "id": "YFQ1yB0d1vxQ"
      },
      "source": [
        "# Handle target columns"
      ]
    },
    {
      "cell_type": "markdown",
      "metadata": {
        "id": "2uXw-JUz1vxQ"
      },
      "source": [
        "Inserting 0 for missing taxi values"
      ]
    },
    {
      "cell_type": "code",
      "metadata": {
        "id": "HY2y6AVY1vxQ"
      },
      "source": [
        "taxi_df[\"TaxiIn\"].fillna(0, inplace=True)\n",
        "taxi_df[\"TaxiOut\"].fillna(0, inplace=True)"
      ],
      "execution_count": 26,
      "outputs": []
    },
    {
      "cell_type": "markdown",
      "metadata": {
        "id": "YTdLnjRL1vxQ"
      },
      "source": [
        "Manually fixing some NaNs"
      ]
    },
    {
      "cell_type": "code",
      "metadata": {
        "colab": {
          "base_uri": "https://localhost:8080/",
          "height": 300
        },
        "id": "JHq44k3L1vxR",
        "outputId": "8d8293ba-0da5-48ec-8302-bc6b45ed0a4b"
      },
      "source": [
        "taxi_df.describe()"
      ],
      "execution_count": 27,
      "outputs": [
        {
          "output_type": "execute_result",
          "data": {
            "text/html": [
              "<div>\n",
              "<style scoped>\n",
              "    .dataframe tbody tr th:only-of-type {\n",
              "        vertical-align: middle;\n",
              "    }\n",
              "\n",
              "    .dataframe tbody tr th {\n",
              "        vertical-align: top;\n",
              "    }\n",
              "\n",
              "    .dataframe thead th {\n",
              "        text-align: right;\n",
              "    }\n",
              "</style>\n",
              "<table border=\"1\" class=\"dataframe\">\n",
              "  <thead>\n",
              "    <tr style=\"text-align: right;\">\n",
              "      <th></th>\n",
              "      <th>DepTime</th>\n",
              "      <th>TaxiOut</th>\n",
              "      <th>WheelsOff</th>\n",
              "      <th>WheelsOn</th>\n",
              "      <th>TaxiIn</th>\n",
              "      <th>ArrTime</th>\n",
              "      <th>AirTime</th>\n",
              "    </tr>\n",
              "  </thead>\n",
              "  <tbody>\n",
              "    <tr>\n",
              "      <th>count</th>\n",
              "      <td>1.166781e+07</td>\n",
              "      <td>1.166781e+07</td>\n",
              "      <td>1.166781e+07</td>\n",
              "      <td>1.166781e+07</td>\n",
              "      <td>1.166781e+07</td>\n",
              "      <td>1.166781e+07</td>\n",
              "      <td>1.166781e+07</td>\n",
              "    </tr>\n",
              "    <tr>\n",
              "      <th>mean</th>\n",
              "      <td>1.351334e+03</td>\n",
              "      <td>1.688213e+01</td>\n",
              "      <td>1.371471e+03</td>\n",
              "      <td>1.470364e+03</td>\n",
              "      <td>7.430322e+00</td>\n",
              "      <td>1.473937e+03</td>\n",
              "      <td>1.106482e+02</td>\n",
              "    </tr>\n",
              "    <tr>\n",
              "      <th>std</th>\n",
              "      <td>4.902738e+02</td>\n",
              "      <td>9.348299e+00</td>\n",
              "      <td>4.894339e+02</td>\n",
              "      <td>5.132986e+02</td>\n",
              "      <td>5.701215e+00</td>\n",
              "      <td>5.169222e+02</td>\n",
              "      <td>6.852058e+01</td>\n",
              "    </tr>\n",
              "    <tr>\n",
              "      <th>min</th>\n",
              "      <td>1.000000e+00</td>\n",
              "      <td>1.000000e+00</td>\n",
              "      <td>1.000000e+00</td>\n",
              "      <td>1.000000e+00</td>\n",
              "      <td>0.000000e+00</td>\n",
              "      <td>1.000000e+00</td>\n",
              "      <td>4.000000e+00</td>\n",
              "    </tr>\n",
              "    <tr>\n",
              "      <th>25%</th>\n",
              "      <td>9.180000e+02</td>\n",
              "      <td>1.100000e+01</td>\n",
              "      <td>9.330000e+02</td>\n",
              "      <td>1.053000e+03</td>\n",
              "      <td>4.000000e+00</td>\n",
              "      <td>1.057000e+03</td>\n",
              "      <td>6.000000e+01</td>\n",
              "    </tr>\n",
              "    <tr>\n",
              "      <th>50%</th>\n",
              "      <td>1.321000e+03</td>\n",
              "      <td>1.400000e+01</td>\n",
              "      <td>1.334000e+03</td>\n",
              "      <td>1.502000e+03</td>\n",
              "      <td>6.000000e+00</td>\n",
              "      <td>1.506000e+03</td>\n",
              "      <td>9.300000e+01</td>\n",
              "    </tr>\n",
              "    <tr>\n",
              "      <th>75%</th>\n",
              "      <td>1.733000e+03</td>\n",
              "      <td>1.900000e+01</td>\n",
              "      <td>1.747000e+03</td>\n",
              "      <td>1.904000e+03</td>\n",
              "      <td>9.000000e+00</td>\n",
              "      <td>1.909000e+03</td>\n",
              "      <td>1.400000e+02</td>\n",
              "    </tr>\n",
              "    <tr>\n",
              "      <th>max</th>\n",
              "      <td>2.400000e+03</td>\n",
              "      <td>2.270000e+02</td>\n",
              "      <td>2.400000e+03</td>\n",
              "      <td>2.400000e+03</td>\n",
              "      <td>3.160000e+02</td>\n",
              "      <td>2.400000e+03</td>\n",
              "      <td>1.557000e+03</td>\n",
              "    </tr>\n",
              "  </tbody>\n",
              "</table>\n",
              "</div>"
            ],
            "text/plain": [
              "            DepTime       TaxiOut  ...       ArrTime       AirTime\n",
              "count  1.166781e+07  1.166781e+07  ...  1.166781e+07  1.166781e+07\n",
              "mean   1.351334e+03  1.688213e+01  ...  1.473937e+03  1.106482e+02\n",
              "std    4.902738e+02  9.348299e+00  ...  5.169222e+02  6.852058e+01\n",
              "min    1.000000e+00  1.000000e+00  ...  1.000000e+00  4.000000e+00\n",
              "25%    9.180000e+02  1.100000e+01  ...  1.057000e+03  6.000000e+01\n",
              "50%    1.321000e+03  1.400000e+01  ...  1.506000e+03  9.300000e+01\n",
              "75%    1.733000e+03  1.900000e+01  ...  1.909000e+03  1.400000e+02\n",
              "max    2.400000e+03  2.270000e+02  ...  2.400000e+03  1.557000e+03\n",
              "\n",
              "[8 rows x 7 columns]"
            ]
          },
          "metadata": {
            "tags": []
          },
          "execution_count": 27
        }
      ]
    },
    {
      "cell_type": "code",
      "metadata": {
        "id": "CkbgJKod1vxR"
      },
      "source": [
        "# converting to HasReachedDest\n",
        "# taxi_df[\"DivReachedDest\"].fillna(1.0, inplace=True)\n",
        "\n",
        "# if not flown there is no airtime\n",
        "taxi_df[\"AirTime\"].fillna(0.0, inplace=True)"
      ],
      "execution_count": 28,
      "outputs": []
    },
    {
      "cell_type": "markdown",
      "metadata": {
        "id": "62JfHEj-1vxR"
      },
      "source": [
        "# Handle FlightDate"
      ]
    },
    {
      "cell_type": "code",
      "metadata": {
        "id": "fxCDCXEf4vCR"
      },
      "source": [
        "taxi_df = add_datepart(taxi_df, 'FlightDate')"
      ],
      "execution_count": 29,
      "outputs": []
    },
    {
      "cell_type": "code",
      "metadata": {
        "colab": {
          "base_uri": "https://localhost:8080/",
          "height": 226
        },
        "id": "g5cOZhFJ5vtt",
        "outputId": "8fc4699d-a49a-44f3-fc76-e75e5b10c5c1"
      },
      "source": [
        "taxi_df.head()"
      ],
      "execution_count": 31,
      "outputs": [
        {
          "output_type": "execute_result",
          "data": {
            "text/html": [
              "<div>\n",
              "<style scoped>\n",
              "    .dataframe tbody tr th:only-of-type {\n",
              "        vertical-align: middle;\n",
              "    }\n",
              "\n",
              "    .dataframe tbody tr th {\n",
              "        vertical-align: top;\n",
              "    }\n",
              "\n",
              "    .dataframe thead th {\n",
              "        text-align: right;\n",
              "    }\n",
              "</style>\n",
              "<table border=\"1\" class=\"dataframe\">\n",
              "  <thead>\n",
              "    <tr style=\"text-align: right;\">\n",
              "      <th></th>\n",
              "      <th>Reporting_Airline</th>\n",
              "      <th>Origin</th>\n",
              "      <th>OriginCityName</th>\n",
              "      <th>OriginState</th>\n",
              "      <th>Dest</th>\n",
              "      <th>DestCityName</th>\n",
              "      <th>DestState</th>\n",
              "      <th>DepTime</th>\n",
              "      <th>TaxiOut</th>\n",
              "      <th>WheelsOff</th>\n",
              "      <th>WheelsOn</th>\n",
              "      <th>TaxiIn</th>\n",
              "      <th>ArrTime</th>\n",
              "      <th>AirTime</th>\n",
              "      <th>FlightYear</th>\n",
              "      <th>FlightMonth</th>\n",
              "      <th>FlightWeek</th>\n",
              "      <th>FlightDay</th>\n",
              "      <th>FlightDayofweek</th>\n",
              "      <th>FlightDayofyear</th>\n",
              "      <th>FlightIs_month_end</th>\n",
              "      <th>FlightIs_month_start</th>\n",
              "      <th>FlightIs_quarter_end</th>\n",
              "      <th>FlightIs_quarter_start</th>\n",
              "      <th>FlightIs_year_end</th>\n",
              "      <th>FlightIs_year_start</th>\n",
              "      <th>FlightElapsed</th>\n",
              "    </tr>\n",
              "  </thead>\n",
              "  <tbody>\n",
              "    <tr>\n",
              "      <th>0</th>\n",
              "      <td>9E</td>\n",
              "      <td>CVG</td>\n",
              "      <td>Cincinnati, OH</td>\n",
              "      <td>KY</td>\n",
              "      <td>BOS</td>\n",
              "      <td>Boston, MA</td>\n",
              "      <td>MA</td>\n",
              "      <td>851.0</td>\n",
              "      <td>60.0</td>\n",
              "      <td>951.0</td>\n",
              "      <td>1127.0</td>\n",
              "      <td>6.0</td>\n",
              "      <td>1133.0</td>\n",
              "      <td>96.0</td>\n",
              "      <td>2020</td>\n",
              "      <td>12</td>\n",
              "      <td>49</td>\n",
              "      <td>1</td>\n",
              "      <td>1</td>\n",
              "      <td>336</td>\n",
              "      <td>False</td>\n",
              "      <td>True</td>\n",
              "      <td>False</td>\n",
              "      <td>False</td>\n",
              "      <td>False</td>\n",
              "      <td>False</td>\n",
              "      <td>1.606781e+09</td>\n",
              "    </tr>\n",
              "    <tr>\n",
              "      <th>1</th>\n",
              "      <td>9E</td>\n",
              "      <td>CVG</td>\n",
              "      <td>Cincinnati, OH</td>\n",
              "      <td>KY</td>\n",
              "      <td>BOS</td>\n",
              "      <td>Boston, MA</td>\n",
              "      <td>MA</td>\n",
              "      <td>729.0</td>\n",
              "      <td>44.0</td>\n",
              "      <td>813.0</td>\n",
              "      <td>948.0</td>\n",
              "      <td>5.0</td>\n",
              "      <td>953.0</td>\n",
              "      <td>95.0</td>\n",
              "      <td>2020</td>\n",
              "      <td>12</td>\n",
              "      <td>49</td>\n",
              "      <td>3</td>\n",
              "      <td>3</td>\n",
              "      <td>338</td>\n",
              "      <td>False</td>\n",
              "      <td>False</td>\n",
              "      <td>False</td>\n",
              "      <td>False</td>\n",
              "      <td>False</td>\n",
              "      <td>False</td>\n",
              "      <td>1.606954e+09</td>\n",
              "    </tr>\n",
              "    <tr>\n",
              "      <th>2</th>\n",
              "      <td>9E</td>\n",
              "      <td>CVG</td>\n",
              "      <td>Cincinnati, OH</td>\n",
              "      <td>KY</td>\n",
              "      <td>BOS</td>\n",
              "      <td>Boston, MA</td>\n",
              "      <td>MA</td>\n",
              "      <td>726.0</td>\n",
              "      <td>10.0</td>\n",
              "      <td>736.0</td>\n",
              "      <td>907.0</td>\n",
              "      <td>7.0</td>\n",
              "      <td>914.0</td>\n",
              "      <td>91.0</td>\n",
              "      <td>2020</td>\n",
              "      <td>12</td>\n",
              "      <td>49</td>\n",
              "      <td>4</td>\n",
              "      <td>4</td>\n",
              "      <td>339</td>\n",
              "      <td>False</td>\n",
              "      <td>False</td>\n",
              "      <td>False</td>\n",
              "      <td>False</td>\n",
              "      <td>False</td>\n",
              "      <td>False</td>\n",
              "      <td>1.607040e+09</td>\n",
              "    </tr>\n",
              "    <tr>\n",
              "      <th>3</th>\n",
              "      <td>9E</td>\n",
              "      <td>CVG</td>\n",
              "      <td>Cincinnati, OH</td>\n",
              "      <td>KY</td>\n",
              "      <td>BOS</td>\n",
              "      <td>Boston, MA</td>\n",
              "      <td>MA</td>\n",
              "      <td>723.0</td>\n",
              "      <td>22.0</td>\n",
              "      <td>745.0</td>\n",
              "      <td>926.0</td>\n",
              "      <td>6.0</td>\n",
              "      <td>932.0</td>\n",
              "      <td>101.0</td>\n",
              "      <td>2020</td>\n",
              "      <td>12</td>\n",
              "      <td>49</td>\n",
              "      <td>6</td>\n",
              "      <td>6</td>\n",
              "      <td>341</td>\n",
              "      <td>False</td>\n",
              "      <td>False</td>\n",
              "      <td>False</td>\n",
              "      <td>False</td>\n",
              "      <td>False</td>\n",
              "      <td>False</td>\n",
              "      <td>1.607213e+09</td>\n",
              "    </tr>\n",
              "    <tr>\n",
              "      <th>4</th>\n",
              "      <td>9E</td>\n",
              "      <td>CVG</td>\n",
              "      <td>Cincinnati, OH</td>\n",
              "      <td>KY</td>\n",
              "      <td>BOS</td>\n",
              "      <td>Boston, MA</td>\n",
              "      <td>MA</td>\n",
              "      <td>720.0</td>\n",
              "      <td>12.0</td>\n",
              "      <td>732.0</td>\n",
              "      <td>912.0</td>\n",
              "      <td>7.0</td>\n",
              "      <td>919.0</td>\n",
              "      <td>100.0</td>\n",
              "      <td>2020</td>\n",
              "      <td>12</td>\n",
              "      <td>50</td>\n",
              "      <td>7</td>\n",
              "      <td>0</td>\n",
              "      <td>342</td>\n",
              "      <td>False</td>\n",
              "      <td>False</td>\n",
              "      <td>False</td>\n",
              "      <td>False</td>\n",
              "      <td>False</td>\n",
              "      <td>False</td>\n",
              "      <td>1.607299e+09</td>\n",
              "    </tr>\n",
              "  </tbody>\n",
              "</table>\n",
              "</div>"
            ],
            "text/plain": [
              "  Reporting_Airline Origin  ... FlightIs_year_start FlightElapsed\n",
              "0                9E    CVG  ...               False  1.606781e+09\n",
              "1                9E    CVG  ...               False  1.606954e+09\n",
              "2                9E    CVG  ...               False  1.607040e+09\n",
              "3                9E    CVG  ...               False  1.607213e+09\n",
              "4                9E    CVG  ...               False  1.607299e+09\n",
              "\n",
              "[5 rows x 27 columns]"
            ]
          },
          "metadata": {
            "tags": []
          },
          "execution_count": 31
        }
      ]
    },
    {
      "cell_type": "code",
      "metadata": {
        "colab": {
          "base_uri": "https://localhost:8080/"
        },
        "id": "YMn9941w1vxS",
        "outputId": "c6708053-cdc2-4279-b652-7a4d581f1327"
      },
      "source": [
        "taxi_df.columns"
      ],
      "execution_count": 32,
      "outputs": [
        {
          "output_type": "execute_result",
          "data": {
            "text/plain": [
              "Index(['Reporting_Airline', 'Origin', 'OriginCityName', 'OriginState', 'Dest',\n",
              "       'DestCityName', 'DestState', 'DepTime', 'TaxiOut', 'WheelsOff',\n",
              "       'WheelsOn', 'TaxiIn', 'ArrTime', 'AirTime', 'FlightYear', 'FlightMonth',\n",
              "       'FlightWeek', 'FlightDay', 'FlightDayofweek', 'FlightDayofyear',\n",
              "       'FlightIs_month_end', 'FlightIs_month_start', 'FlightIs_quarter_end',\n",
              "       'FlightIs_quarter_start', 'FlightIs_year_end', 'FlightIs_year_start',\n",
              "       'FlightElapsed'],\n",
              "      dtype='object')"
            ]
          },
          "metadata": {
            "tags": []
          },
          "execution_count": 32
        }
      ]
    },
    {
      "cell_type": "markdown",
      "metadata": {
        "id": "RNROoBul1vxS"
      },
      "source": [
        "# Create dataset"
      ]
    },
    {
      "cell_type": "code",
      "metadata": {
        "id": "Vy9LRvx81vxT"
      },
      "source": [
        "categorical_columns = [\n",
        "    'Reporting_Airline', 'Origin', 'OriginCityName', 'OriginState', 'Dest', 'DestCityName', 'DestState',\n",
        "    'DepTime', 'WheelsOff', 'WheelsOn', 'ArrTime', 'FlightYear', 'FlightMonth',\n",
        "    'FlightWeek', 'FlightDay', 'FlightDayofweek', 'FlightDayofyear',\n",
        "    'FlightIs_month_end', 'FlightIs_month_start', 'FlightIs_quarter_end',\n",
        "    'FlightIs_quarter_start', 'FlightIs_year_end', 'FlightIs_year_start',\n",
        "    ]\n",
        "\n",
        "continous_columns = ['AirTime', \"FlightElapsed\"]\n",
        "\n",
        "y_columns = ['TaxiIn', 'TaxiOut']"
      ],
      "execution_count": 33,
      "outputs": []
    },
    {
      "cell_type": "code",
      "metadata": {
        "id": "htOpuBdJ1vxT"
      },
      "source": [
        "subset = taxi_df#.sample(n=10000)"
      ],
      "execution_count": 34,
      "outputs": []
    },
    {
      "cell_type": "code",
      "metadata": {
        "id": "r_AXYs9D1vxT"
      },
      "source": [
        "splits = RandomSplitter()(range_of(subset))"
      ],
      "execution_count": 35,
      "outputs": []
    },
    {
      "cell_type": "code",
      "metadata": {
        "id": "d0JS8lQH1vxT"
      },
      "source": [
        "to = TabularPandas(\n",
        "    subset, \n",
        "    cat_names=categorical_columns,\n",
        "    cont_names=continous_columns,\n",
        "    y_names=y_columns,\n",
        "    procs=[Categorify, FillMissing, Normalize],\n",
        "    splits=splits\n",
        ")"
      ],
      "execution_count": 36,
      "outputs": []
    },
    {
      "cell_type": "code",
      "metadata": {
        "id": "wkU9cFUV1vxT"
      },
      "source": [
        "dls = to.dataloaders(bs=128)"
      ],
      "execution_count": 37,
      "outputs": []
    },
    {
      "cell_type": "code",
      "metadata": {
        "colab": {
          "base_uri": "https://localhost:8080/",
          "height": 418
        },
        "id": "HcJiM8lT1vxU",
        "outputId": "cf2ae674-94e3-47c1-8405-2d8b05ea5412"
      },
      "source": [
        "dls.show_batch()"
      ],
      "execution_count": 38,
      "outputs": [
        {
          "output_type": "display_data",
          "data": {
            "text/html": [
              "<table border=\"1\" class=\"dataframe\">\n",
              "  <thead>\n",
              "    <tr style=\"text-align: right;\">\n",
              "      <th></th>\n",
              "      <th>Reporting_Airline</th>\n",
              "      <th>Origin</th>\n",
              "      <th>OriginCityName</th>\n",
              "      <th>OriginState</th>\n",
              "      <th>Dest</th>\n",
              "      <th>DestCityName</th>\n",
              "      <th>DestState</th>\n",
              "      <th>DepTime</th>\n",
              "      <th>WheelsOff</th>\n",
              "      <th>WheelsOn</th>\n",
              "      <th>ArrTime</th>\n",
              "      <th>FlightYear</th>\n",
              "      <th>FlightMonth</th>\n",
              "      <th>FlightWeek</th>\n",
              "      <th>FlightDay</th>\n",
              "      <th>FlightDayofweek</th>\n",
              "      <th>FlightDayofyear</th>\n",
              "      <th>FlightIs_month_end</th>\n",
              "      <th>FlightIs_month_start</th>\n",
              "      <th>FlightIs_quarter_end</th>\n",
              "      <th>FlightIs_quarter_start</th>\n",
              "      <th>FlightIs_year_end</th>\n",
              "      <th>FlightIs_year_start</th>\n",
              "      <th>AirTime</th>\n",
              "      <th>FlightElapsed</th>\n",
              "      <th>TaxiIn</th>\n",
              "      <th>TaxiOut</th>\n",
              "    </tr>\n",
              "  </thead>\n",
              "  <tbody>\n",
              "    <tr>\n",
              "      <th>0</th>\n",
              "      <td>WN</td>\n",
              "      <td>DEN</td>\n",
              "      <td>Denver, CO</td>\n",
              "      <td>CO</td>\n",
              "      <td>SLC</td>\n",
              "      <td>Salt Lake City, UT</td>\n",
              "      <td>UT</td>\n",
              "      <td>1611</td>\n",
              "      <td>1622</td>\n",
              "      <td>1725</td>\n",
              "      <td>1731</td>\n",
              "      <td>2019</td>\n",
              "      <td>11</td>\n",
              "      <td>44</td>\n",
              "      <td>3</td>\n",
              "      <td>6</td>\n",
              "      <td>307</td>\n",
              "      <td>False</td>\n",
              "      <td>False</td>\n",
              "      <td>False</td>\n",
              "      <td>False</td>\n",
              "      <td>False</td>\n",
              "      <td>False</td>\n",
              "      <td>62.999999</td>\n",
              "      <td>1.572739e+09</td>\n",
              "      <td>6.0</td>\n",
              "      <td>11.0</td>\n",
              "    </tr>\n",
              "    <tr>\n",
              "      <th>1</th>\n",
              "      <td>YX</td>\n",
              "      <td>EWR</td>\n",
              "      <td>Newark, NJ</td>\n",
              "      <td>NJ</td>\n",
              "      <td>CVG</td>\n",
              "      <td>Cincinnati, OH</td>\n",
              "      <td>KY</td>\n",
              "      <td>1724</td>\n",
              "      <td>1742</td>\n",
              "      <td>1921</td>\n",
              "      <td>1926</td>\n",
              "      <td>2019</td>\n",
              "      <td>11</td>\n",
              "      <td>47</td>\n",
              "      <td>22</td>\n",
              "      <td>4</td>\n",
              "      <td>326</td>\n",
              "      <td>False</td>\n",
              "      <td>False</td>\n",
              "      <td>False</td>\n",
              "      <td>False</td>\n",
              "      <td>False</td>\n",
              "      <td>False</td>\n",
              "      <td>99.000000</td>\n",
              "      <td>1.574381e+09</td>\n",
              "      <td>5.0</td>\n",
              "      <td>18.0</td>\n",
              "    </tr>\n",
              "    <tr>\n",
              "      <th>2</th>\n",
              "      <td>AS</td>\n",
              "      <td>PDX</td>\n",
              "      <td>Portland, OR</td>\n",
              "      <td>OR</td>\n",
              "      <td>HNL</td>\n",
              "      <td>Honolulu, HI</td>\n",
              "      <td>HI</td>\n",
              "      <td>915</td>\n",
              "      <td>927</td>\n",
              "      <td>1142</td>\n",
              "      <td>1243</td>\n",
              "      <td>2019</td>\n",
              "      <td>9</td>\n",
              "      <td>38</td>\n",
              "      <td>16</td>\n",
              "      <td>0</td>\n",
              "      <td>259</td>\n",
              "      <td>False</td>\n",
              "      <td>False</td>\n",
              "      <td>False</td>\n",
              "      <td>False</td>\n",
              "      <td>False</td>\n",
              "      <td>False</td>\n",
              "      <td>315.000006</td>\n",
              "      <td>1.568592e+09</td>\n",
              "      <td>61.0</td>\n",
              "      <td>12.0</td>\n",
              "    </tr>\n",
              "    <tr>\n",
              "      <th>3</th>\n",
              "      <td>WN</td>\n",
              "      <td>HOU</td>\n",
              "      <td>Houston, TX</td>\n",
              "      <td>TX</td>\n",
              "      <td>LAS</td>\n",
              "      <td>Las Vegas, NV</td>\n",
              "      <td>NV</td>\n",
              "      <td>2146</td>\n",
              "      <td>2153</td>\n",
              "      <td>2250</td>\n",
              "      <td>2253</td>\n",
              "      <td>2020</td>\n",
              "      <td>2</td>\n",
              "      <td>8</td>\n",
              "      <td>19</td>\n",
              "      <td>2</td>\n",
              "      <td>50</td>\n",
              "      <td>False</td>\n",
              "      <td>False</td>\n",
              "      <td>False</td>\n",
              "      <td>False</td>\n",
              "      <td>False</td>\n",
              "      <td>False</td>\n",
              "      <td>176.999999</td>\n",
              "      <td>1.582070e+09</td>\n",
              "      <td>3.0</td>\n",
              "      <td>7.0</td>\n",
              "    </tr>\n",
              "    <tr>\n",
              "      <th>4</th>\n",
              "      <td>F9</td>\n",
              "      <td>MCO</td>\n",
              "      <td>Orlando, FL</td>\n",
              "      <td>FL</td>\n",
              "      <td>ATL</td>\n",
              "      <td>Atlanta, GA</td>\n",
              "      <td>GA</td>\n",
              "      <td>1220</td>\n",
              "      <td>1230</td>\n",
              "      <td>1341</td>\n",
              "      <td>1352</td>\n",
              "      <td>2020</td>\n",
              "      <td>12</td>\n",
              "      <td>53</td>\n",
              "      <td>31</td>\n",
              "      <td>3</td>\n",
              "      <td>366</td>\n",
              "      <td>True</td>\n",
              "      <td>False</td>\n",
              "      <td>True</td>\n",
              "      <td>False</td>\n",
              "      <td>True</td>\n",
              "      <td>False</td>\n",
              "      <td>71.000000</td>\n",
              "      <td>1.609373e+09</td>\n",
              "      <td>11.0</td>\n",
              "      <td>10.0</td>\n",
              "    </tr>\n",
              "    <tr>\n",
              "      <th>5</th>\n",
              "      <td>WN</td>\n",
              "      <td>DEN</td>\n",
              "      <td>Denver, CO</td>\n",
              "      <td>CO</td>\n",
              "      <td>EWR</td>\n",
              "      <td>Newark, NJ</td>\n",
              "      <td>NJ</td>\n",
              "      <td>1132</td>\n",
              "      <td>1200</td>\n",
              "      <td>1708</td>\n",
              "      <td>1717</td>\n",
              "      <td>2019</td>\n",
              "      <td>10</td>\n",
              "      <td>40</td>\n",
              "      <td>1</td>\n",
              "      <td>1</td>\n",
              "      <td>274</td>\n",
              "      <td>False</td>\n",
              "      <td>True</td>\n",
              "      <td>False</td>\n",
              "      <td>True</td>\n",
              "      <td>False</td>\n",
              "      <td>False</td>\n",
              "      <td>188.000003</td>\n",
              "      <td>1.569888e+09</td>\n",
              "      <td>9.0</td>\n",
              "      <td>28.0</td>\n",
              "    </tr>\n",
              "    <tr>\n",
              "      <th>6</th>\n",
              "      <td>F9</td>\n",
              "      <td>ATL</td>\n",
              "      <td>Atlanta, GA</td>\n",
              "      <td>GA</td>\n",
              "      <td>LAS</td>\n",
              "      <td>Las Vegas, NV</td>\n",
              "      <td>NV</td>\n",
              "      <td>2359</td>\n",
              "      <td>12</td>\n",
              "      <td>100</td>\n",
              "      <td>110</td>\n",
              "      <td>2019</td>\n",
              "      <td>10</td>\n",
              "      <td>43</td>\n",
              "      <td>24</td>\n",
              "      <td>3</td>\n",
              "      <td>297</td>\n",
              "      <td>False</td>\n",
              "      <td>False</td>\n",
              "      <td>False</td>\n",
              "      <td>False</td>\n",
              "      <td>False</td>\n",
              "      <td>False</td>\n",
              "      <td>228.000002</td>\n",
              "      <td>1.571875e+09</td>\n",
              "      <td>10.0</td>\n",
              "      <td>13.0</td>\n",
              "    </tr>\n",
              "    <tr>\n",
              "      <th>7</th>\n",
              "      <td>YX</td>\n",
              "      <td>SDF</td>\n",
              "      <td>Louisville, KY</td>\n",
              "      <td>KY</td>\n",
              "      <td>DTW</td>\n",
              "      <td>Detroit, MI</td>\n",
              "      <td>MI</td>\n",
              "      <td>1834</td>\n",
              "      <td>1847</td>\n",
              "      <td>1940</td>\n",
              "      <td>1946</td>\n",
              "      <td>2019</td>\n",
              "      <td>10</td>\n",
              "      <td>41</td>\n",
              "      <td>9</td>\n",
              "      <td>2</td>\n",
              "      <td>282</td>\n",
              "      <td>False</td>\n",
              "      <td>False</td>\n",
              "      <td>False</td>\n",
              "      <td>False</td>\n",
              "      <td>False</td>\n",
              "      <td>False</td>\n",
              "      <td>52.999999</td>\n",
              "      <td>1.570579e+09</td>\n",
              "      <td>6.0</td>\n",
              "      <td>13.0</td>\n",
              "    </tr>\n",
              "    <tr>\n",
              "      <th>8</th>\n",
              "      <td>UA</td>\n",
              "      <td>RDU</td>\n",
              "      <td>Raleigh/Durham, NC</td>\n",
              "      <td>NC</td>\n",
              "      <td>ORD</td>\n",
              "      <td>Chicago, IL</td>\n",
              "      <td>IL</td>\n",
              "      <td>1717</td>\n",
              "      <td>1806</td>\n",
              "      <td>1850</td>\n",
              "      <td>1907</td>\n",
              "      <td>2019</td>\n",
              "      <td>4</td>\n",
              "      <td>17</td>\n",
              "      <td>24</td>\n",
              "      <td>2</td>\n",
              "      <td>114</td>\n",
              "      <td>False</td>\n",
              "      <td>False</td>\n",
              "      <td>False</td>\n",
              "      <td>False</td>\n",
              "      <td>False</td>\n",
              "      <td>False</td>\n",
              "      <td>104.000000</td>\n",
              "      <td>1.556064e+09</td>\n",
              "      <td>17.0</td>\n",
              "      <td>49.0</td>\n",
              "    </tr>\n",
              "    <tr>\n",
              "      <th>9</th>\n",
              "      <td>OO</td>\n",
              "      <td>DTW</td>\n",
              "      <td>Detroit, MI</td>\n",
              "      <td>MI</td>\n",
              "      <td>ORD</td>\n",
              "      <td>Chicago, IL</td>\n",
              "      <td>IL</td>\n",
              "      <td>557</td>\n",
              "      <td>607</td>\n",
              "      <td>555</td>\n",
              "      <td>610</td>\n",
              "      <td>2019</td>\n",
              "      <td>5</td>\n",
              "      <td>20</td>\n",
              "      <td>19</td>\n",
              "      <td>6</td>\n",
              "      <td>139</td>\n",
              "      <td>False</td>\n",
              "      <td>False</td>\n",
              "      <td>False</td>\n",
              "      <td>False</td>\n",
              "      <td>False</td>\n",
              "      <td>False</td>\n",
              "      <td>48.000002</td>\n",
              "      <td>1.558224e+09</td>\n",
              "      <td>15.0</td>\n",
              "      <td>10.0</td>\n",
              "    </tr>\n",
              "  </tbody>\n",
              "</table>"
            ],
            "text/plain": [
              "<IPython.core.display.HTML object>"
            ]
          },
          "metadata": {
            "tags": []
          }
        }
      ]
    },
    {
      "cell_type": "markdown",
      "metadata": {
        "id": "MVpiAjTx1vxU"
      },
      "source": [
        "# Create metrics and model"
      ]
    },
    {
      "cell_type": "code",
      "metadata": {
        "id": "MmJYUmcB1vxV"
      },
      "source": [
        "def slice_input(metric_func, input_idx):\n",
        "    def inner(inp, targ):\n",
        "        return metric_func(inp[:,input_idx], targ[:,input_idx])\n",
        "    return inner\n",
        "\n",
        "\n",
        "class MetricWrapper(AvgMetric):\n",
        "    def __init__(self, func, name, input_idx):\n",
        "        func = slice_input(func, input_idx)\n",
        "        super().__init__(func)\n",
        "        self._name = name\n",
        "        \n",
        "    @property\n",
        "    def name(self):  return self._name\n",
        "\n",
        "\n",
        "metrics = [\n",
        "    MetricWrapper(mse, 'taxi_in_mse', 0),\n",
        "    MetricWrapper(mse, 'taxi_out_mse', 1),\n",
        "    MetricWrapper(R2Score(), 'taxi_in_r2', 0),\n",
        "    MetricWrapper(R2Score(), 'taxi_out_r2', 1),\n",
        "]"
      ],
      "execution_count": 39,
      "outputs": []
    },
    {
      "cell_type": "code",
      "metadata": {
        "id": "EWiRwcVw1vxV"
      },
      "source": [
        "learn = tabular_learner(dls, metrics=[taxi_in_mse, taxi_out_mse])"
      ],
      "execution_count": 40,
      "outputs": []
    },
    {
      "cell_type": "markdown",
      "metadata": {
        "id": "bc6rQT0m1vxV"
      },
      "source": [
        "# Find optimal learning rate"
      ]
    },
    {
      "cell_type": "code",
      "metadata": {
        "colab": {
          "base_uri": "https://localhost:8080/",
          "height": 300
        },
        "id": "XAtQC5GE1vxV",
        "outputId": "b99f8e11-5737-4abe-93cc-3248b6c0581f"
      },
      "source": [
        "learn.lr_find(num_it=500)"
      ],
      "execution_count": 41,
      "outputs": [
        {
          "output_type": "display_data",
          "data": {
            "text/html": [
              ""
            ],
            "text/plain": [
              "<IPython.core.display.HTML object>"
            ]
          },
          "metadata": {
            "tags": []
          }
        },
        {
          "output_type": "execute_result",
          "data": {
            "text/plain": [
              "SuggestedLRs(lr_min=0.009638290107250213, lr_steep=0.0016143585089594126)"
            ]
          },
          "metadata": {
            "tags": []
          },
          "execution_count": 41
        },
        {
          "output_type": "display_data",
          "data": {
            "image/png": "[encoded data removed]",
            "text/plain": [
              "<Figure size 432x288 with 1 Axes>"
            ]
          },
          "metadata": {
            "tags": [],
            "needs_background": "light"
          }
        }
      ]
    },
    {
      "cell_type": "markdown",
      "metadata": {
        "id": "qCSgGwGL1vxW"
      },
      "source": [
        "# Configure wandb logging"
      ]
    },
    {
      "cell_type": "code",
      "metadata": {
        "id": "QjELjDue1vxW"
      },
      "source": [
        "experiment_name = \"keep-FlightDate-fixed-metrics\""
      ],
      "execution_count": 42,
      "outputs": []
    },
    {
      "cell_type": "code",
      "metadata": {
        "colab": {
          "base_uri": "https://localhost:8080/",
          "height": 156
        },
        "id": "ia5oJRdb1vxW",
        "outputId": "860de7c2-8365-47ca-b4e1-48458f6eb1e0"
      },
      "source": [
        "wandb.init(project='taxi-time', name=experiment_name);"
      ],
      "execution_count": 43,
      "outputs": [
        {
          "output_type": "display_data",
          "data": {
            "application/javascript": [
              "\n",
              "        window._wandbApiKey = new Promise((resolve, reject) => {\n",
              "            function loadScript(url) {\n",
              "            return new Promise(function(resolve, reject) {\n",
              "                let newScript = document.createElement(\"script\");\n",
              "                newScript.onerror = reject;\n",
              "                newScript.onload = resolve;\n",
              "                document.body.appendChild(newScript);\n",
              "                newScript.src = url;\n",
              "            });\n",
              "            }\n",
              "            loadScript(\"https://cdn.jsdelivr.net/npm/postmate/build/postmate.min.js\").then(() => {\n",
              "            const iframe = document.createElement('iframe')\n",
              "            iframe.style.cssText = \"width:0;height:0;border:none\"\n",
              "            document.body.appendChild(iframe)\n",
              "            const handshake = new Postmate({\n",
              "                container: iframe,\n",
              "                url: 'https://wandb.ai/authorize'\n",
              "            });\n",
              "            const timeout = setTimeout(() => reject(\"Couldn't auto authenticate\"), 5000)\n",
              "            handshake.then(function(child) {\n",
              "                child.on('authorize', data => {\n",
              "                    clearTimeout(timeout)\n",
              "                    resolve(data)\n",
              "                });\n",
              "            });\n",
              "            })\n",
              "        });\n",
              "    "
            ],
            "text/plain": [
              "<IPython.core.display.Javascript object>"
            ]
          },
          "metadata": {
            "tags": []
          }
        },
        {
          "output_type": "stream",
          "text": [
            "\u001b[34m\u001b[1mwandb\u001b[0m: Appending key for api.wandb.ai to your netrc file: /root/.netrc\n"
          ],
          "name": "stderr"
        },
        {
          "output_type": "display_data",
          "data": {
            "text/html": [
              "\n",
              "                Tracking run with wandb version 0.10.24<br/>\n",
              "                Syncing run <strong style=\"color:#cdcd00\">keep-FlightDate</strong> to <a href=\"https://wandb.ai\" target=\"_blank\">Weights & Biases</a> <a href=\"https://docs.wandb.com/integrations/jupyter.html\" target=\"_blank\">(Documentation)</a>.<br/>\n",
              "                Project page: <a href=\"https://wandb.ai/potipot/taxi-time\" target=\"_blank\">https://wandb.ai/potipot/taxi-time</a><br/>\n",
              "                Run page: <a href=\"https://wandb.ai/potipot/taxi-time/runs/f5eguhga\" target=\"_blank\">https://wandb.ai/potipot/taxi-time/runs/f5eguhga</a><br/>\n",
              "                Run data is saved locally in <code>/content/wandb/run-20210402_141122-f5eguhga</code><br/><br/>\n",
              "            "
            ],
            "text/plain": [
              "<IPython.core.display.HTML object>"
            ]
          },
          "metadata": {
            "tags": []
          }
        }
      ]
    },
    {
      "cell_type": "markdown",
      "metadata": {
        "id": "D4-hrKS01vxX"
      },
      "source": [
        "# Train"
      ]
    },
    {
      "cell_type": "code",
      "metadata": {
        "colab": {
          "base_uri": "https://localhost:8080/",
          "height": 144
        },
        "id": "b3wKziT01vxX",
        "outputId": "e11c11d6-41b7-4891-e43d-3718d5d733cc"
      },
      "source": [
        "learn.fit_flat_cos(10, 5e-3, pct_start=0.5, cbs=[SaveModelCallback(fname=experiment_name), WandbCallback()])"
      ],
      "execution_count": null,
      "outputs": [
        {
          "output_type": "display_data",
          "data": {
            "text/html": [
              "\n",
              "    <div>\n",
              "        <style>\n",
              "            /* Turns off some styling */\n",
              "            progress {\n",
              "                /* gets rid of default border in Firefox and Opera. */\n",
              "                border: none;\n",
              "                /* Needs to be in here for Safari polyfill so background images work as expected. */\n",
              "                background-size: auto;\n",
              "            }\n",
              "            .progress-bar-interrupted, .progress-bar-interrupted::-webkit-progress-bar {\n",
              "                background: #F44336;\n",
              "            }\n",
              "        </style>\n",
              "      <progress value='1' class='' max='10' style='width:300px; height:20px; vertical-align: middle;'></progress>\n",
              "      10.00% [1/10 42:03<6:18:29]\n",
              "    </div>\n",
              "    \n",
              "<table border=\"1\" class=\"dataframe\">\n",
              "  <thead>\n",
              "    <tr style=\"text-align: left;\">\n",
              "      <th>epoch</th>\n",
              "      <th>train_loss</th>\n",
              "      <th>valid_loss</th>\n",
              "      <th>taxi_in_mse</th>\n",
              "      <th>taxi_out_mse</th>\n",
              "      <th>time</th>\n",
              "    </tr>\n",
              "  </thead>\n",
              "  <tbody>\n",
              "    <tr>\n",
              "      <td>0</td>\n",
              "      <td>7.041901</td>\n",
              "      <td>8.616673</td>\n",
              "      <td>7.565086</td>\n",
              "      <td>8.419264</td>\n",
              "      <td>42:03</td>\n",
              "    </tr>\n",
              "  </tbody>\n",
              "</table><p>\n",
              "\n",
              "    <div>\n",
              "        <style>\n",
              "            /* Turns off some styling */\n",
              "            progress {\n",
              "                /* gets rid of default border in Firefox and Opera. */\n",
              "                border: none;\n",
              "                /* Needs to be in here for Safari polyfill so background images work as expected. */\n",
              "                background-size: auto;\n",
              "            }\n",
              "            .progress-bar-interrupted, .progress-bar-interrupted::-webkit-progress-bar {\n",
              "                background: #F44336;\n",
              "            }\n",
              "        </style>\n",
              "      <progress value='72343' class='' max='72923' style='width:300px; height:20px; vertical-align: middle;'></progress>\n",
              "      99.20% [72343/72923 38:36<00:18 4.3559]\n",
              "    </div>\n",
              "    "
            ],
            "text/plain": [
              "<IPython.core.display.HTML object>"
            ]
          },
          "metadata": {
            "tags": []
          }
        },
        {
          "output_type": "stream",
          "text": [
            "Better model found at epoch 0 with valid_loss value: 8.61667251586914.\n"
          ],
          "name": "stdout"
        }
      ]
    },
    {
      "cell_type": "code",
      "metadata": {
        "id": "3d1_txhy1vxX",
        "outputId": "8898170e-d7fb-42f6-b150-0279473ecbcf"
      },
      "source": [
        "learn.show_results()"
      ],
      "execution_count": null,
      "outputs": [
        {
          "output_type": "display_data",
          "data": {
            "text/html": [
              ""
            ],
            "text/plain": [
              "<IPython.core.display.HTML object>"
            ]
          },
          "metadata": {
            "tags": []
          }
        },
        {
          "output_type": "display_data",
          "data": {
            "text/html": [
              "<table border=\"1\" class=\"dataframe\">\n",
              "  <thead>\n",
              "    <tr style=\"text-align: right;\">\n",
              "      <th></th>\n",
              "      <th>Reporting_Airline</th>\n",
              "      <th>Origin</th>\n",
              "      <th>OriginCityName</th>\n",
              "      <th>OriginState</th>\n",
              "      <th>Dest</th>\n",
              "      <th>DestCityName</th>\n",
              "      <th>DestState</th>\n",
              "      <th>DepTime</th>\n",
              "      <th>WheelsOff</th>\n",
              "      <th>WheelsOn</th>\n",
              "      <th>AirTime</th>\n",
              "      <th>TaxiIn</th>\n",
              "      <th>TaxiOut</th>\n",
              "      <th>TaxiIn_pred</th>\n",
              "      <th>TaxiOut_pred</th>\n",
              "    </tr>\n",
              "  </thead>\n",
              "  <tbody>\n",
              "    <tr>\n",
              "      <th>0</th>\n",
              "      <td>2.0</td>\n",
              "      <td>330.0</td>\n",
              "      <td>290.0</td>\n",
              "      <td>5.0</td>\n",
              "      <td>99.0</td>\n",
              "      <td>83.0</td>\n",
              "      <td>44.0</td>\n",
              "      <td>1156.0</td>\n",
              "      <td>1168.0</td>\n",
              "      <td>111.0</td>\n",
              "      <td>0.809138</td>\n",
              "      <td>5.0</td>\n",
              "      <td>10.0</td>\n",
              "      <td>11.633522</td>\n",
              "      <td>10.780287</td>\n",
              "    </tr>\n",
              "    <tr>\n",
              "      <th>1</th>\n",
              "      <td>14.0</td>\n",
              "      <td>196.0</td>\n",
              "      <td>199.0</td>\n",
              "      <td>5.0</td>\n",
              "      <td>158.0</td>\n",
              "      <td>150.0</td>\n",
              "      <td>10.0</td>\n",
              "      <td>816.0</td>\n",
              "      <td>831.0</td>\n",
              "      <td>1027.0</td>\n",
              "      <td>3.167663</td>\n",
              "      <td>5.0</td>\n",
              "      <td>14.0</td>\n",
              "      <td>7.272551</td>\n",
              "      <td>12.047436</td>\n",
              "    </tr>\n",
              "    <tr>\n",
              "      <th>2</th>\n",
              "      <td>6.0</td>\n",
              "      <td>170.0</td>\n",
              "      <td>151.0</td>\n",
              "      <td>44.0</td>\n",
              "      <td>204.0</td>\n",
              "      <td>182.0</td>\n",
              "      <td>17.0</td>\n",
              "      <td>1026.0</td>\n",
              "      <td>1041.0</td>\n",
              "      <td>1121.0</td>\n",
              "      <td>-1.052108</td>\n",
              "      <td>7.0</td>\n",
              "      <td>15.0</td>\n",
              "      <td>6.265943</td>\n",
              "      <td>19.201382</td>\n",
              "    </tr>\n",
              "    <tr>\n",
              "      <th>3</th>\n",
              "      <td>17.0</td>\n",
              "      <td>223.0</td>\n",
              "      <td>218.0</td>\n",
              "      <td>44.0</td>\n",
              "      <td>170.0</td>\n",
              "      <td>151.0</td>\n",
              "      <td>44.0</td>\n",
              "      <td>785.0</td>\n",
              "      <td>813.0</td>\n",
              "      <td>916.0</td>\n",
              "      <td>-0.711117</td>\n",
              "      <td>17.0</td>\n",
              "      <td>27.0</td>\n",
              "      <td>4.576787</td>\n",
              "      <td>8.498371</td>\n",
              "    </tr>\n",
              "    <tr>\n",
              "      <th>4</th>\n",
              "      <td>1.0</td>\n",
              "      <td>48.0</td>\n",
              "      <td>41.0</td>\n",
              "      <td>18.0</td>\n",
              "      <td>185.0</td>\n",
              "      <td>235.0</td>\n",
              "      <td>33.0</td>\n",
              "      <td>604.0</td>\n",
              "      <td>643.0</td>\n",
              "      <td>726.0</td>\n",
              "      <td>-0.995276</td>\n",
              "      <td>7.0</td>\n",
              "      <td>38.0</td>\n",
              "      <td>11.435070</td>\n",
              "      <td>17.863216</td>\n",
              "    </tr>\n",
              "    <tr>\n",
              "      <th>5</th>\n",
              "      <td>13.0</td>\n",
              "      <td>292.0</td>\n",
              "      <td>33.0</td>\n",
              "      <td>36.0</td>\n",
              "      <td>270.0</td>\n",
              "      <td>262.0</td>\n",
              "      <td>4.0</td>\n",
              "      <td>487.0</td>\n",
              "      <td>504.0</td>\n",
              "      <td>721.0</td>\n",
              "      <td>0.056114</td>\n",
              "      <td>5.0</td>\n",
              "      <td>16.0</td>\n",
              "      <td>8.157559</td>\n",
              "      <td>14.195477</td>\n",
              "    </tr>\n",
              "    <tr>\n",
              "      <th>6</th>\n",
              "      <td>5.0</td>\n",
              "      <td>74.0</td>\n",
              "      <td>69.0</td>\n",
              "      <td>34.0</td>\n",
              "      <td>23.0</td>\n",
              "      <td>20.0</td>\n",
              "      <td>9.0</td>\n",
              "      <td>753.0</td>\n",
              "      <td>762.0</td>\n",
              "      <td>885.0</td>\n",
              "      <td>-0.426957</td>\n",
              "      <td>6.0</td>\n",
              "      <td>8.0</td>\n",
              "      <td>4.948223</td>\n",
              "      <td>18.699223</td>\n",
              "    </tr>\n",
              "    <tr>\n",
              "      <th>7</th>\n",
              "      <td>4.0</td>\n",
              "      <td>218.0</td>\n",
              "      <td>250.0</td>\n",
              "      <td>8.0</td>\n",
              "      <td>327.0</td>\n",
              "      <td>300.0</td>\n",
              "      <td>38.0</td>\n",
              "      <td>561.0</td>\n",
              "      <td>573.0</td>\n",
              "      <td>821.0</td>\n",
              "      <td>0.496562</td>\n",
              "      <td>6.0</td>\n",
              "      <td>11.0</td>\n",
              "      <td>4.126197</td>\n",
              "      <td>11.923960</td>\n",
              "    </tr>\n",
              "    <tr>\n",
              "      <th>8</th>\n",
              "      <td>5.0</td>\n",
              "      <td>23.0</td>\n",
              "      <td>20.0</td>\n",
              "      <td>9.0</td>\n",
              "      <td>175.0</td>\n",
              "      <td>155.0</td>\n",
              "      <td>14.0</td>\n",
              "      <td>488.0</td>\n",
              "      <td>499.0</td>\n",
              "      <td>607.0</td>\n",
              "      <td>-0.640077</td>\n",
              "      <td>4.0</td>\n",
              "      <td>10.0</td>\n",
              "      <td>5.663379</td>\n",
              "      <td>11.147790</td>\n",
              "    </tr>\n",
              "  </tbody>\n",
              "</table>"
            ],
            "text/plain": [
              "<IPython.core.display.HTML object>"
            ]
          },
          "metadata": {
            "tags": []
          }
        }
      ]
    },
    {
      "cell_type": "code",
      "metadata": {
        "id": "EXzvw5AG1vxY"
      },
      "source": [
        ""
      ],
      "execution_count": null,
      "outputs": []
    }
  ]
}